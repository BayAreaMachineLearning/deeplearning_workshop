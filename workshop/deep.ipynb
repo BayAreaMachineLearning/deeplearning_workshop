{
 "cells": [
  {
   "cell_type": "markdown",
   "metadata": {
    "deletable": true,
    "editable": true
   },
   "source": [
    "# Deep Networks"
   ]
  },
  {
   "cell_type": "markdown",
   "metadata": {
    "deletable": true,
    "editable": true
   },
   "source": [
    "In the last exercise we finished with a simple single layer MLP with softmax for multiclass classification. In this session we will design deep models and observe their performance. To do this, we will use the [Keras API](https://keras.io/) with tensorflow, which will allow us to design, train and evaluate simple models much faster and with fewer lines of code."
   ]
  },
  {
   "cell_type": "code",
   "execution_count": 1,
   "metadata": {
    "collapsed": false,
    "deletable": true,
    "editable": true
   },
   "outputs": [
    {
     "name": "stderr",
     "output_type": "stream",
     "text": [
      "Using TensorFlow backend.\n"
     ]
    }
   ],
   "source": [
    "import matplotlib.pyplot as plt  \n",
    "%matplotlib inline\n",
    "from utils import plot_samples, plot_curves\n",
    "import time"
   ]
  },
  {
   "cell_type": "code",
   "execution_count": 2,
   "metadata": {
    "collapsed": false,
    "deletable": true,
    "editable": true
   },
   "outputs": [],
   "source": [
    "import numpy as np\n",
    "# force random seed for results to be reproducible\n",
    "SEED = 4242\n",
    "np.random.seed(SEED)"
   ]
  },
  {
   "cell_type": "markdown",
   "metadata": {
    "deletable": true,
    "editable": true
   },
   "source": [
    "Before building deep networks, let's first train the same architecture as the one in the previous exercise, this time using keras. \n",
    "\n",
    "Let's begin by loading the MNIST dataset: "
   ]
  },
  {
   "cell_type": "code",
   "execution_count": 3,
   "metadata": {
    "collapsed": false,
    "deletable": true,
    "editable": true
   },
   "outputs": [
    {
     "data": {
      "text/plain": [
       "(60000, 28, 28)"
      ]
     },
     "execution_count": 3,
     "metadata": {},
     "output_type": "execute_result"
    },
    {
     "data": {
      "image/png": "[encoded data removed]",
      "text/plain": [
       "<matplotlib.figure.Figure at 0x10d376e80>"
      ]
     },
     "metadata": {},
     "output_type": "display_data"
    }
   ],
   "source": [
    "from keras.datasets import mnist\n",
    "from keras.utils import np_utils\n",
    "\n",
    "# Load pre-shuffled MNIST data into train and test sets\n",
    "(X_train, y_train), (X_test, y_test) = mnist.load_data()\n",
    "# Display some of the samples\n",
    "plot_samples(X_train)\n",
    "X_train.shape"
   ]
  },
  {
   "cell_type": "markdown",
   "metadata": {
    "deletable": true,
    "editable": true
   },
   "source": [
    "We flatten and normalize images:"
   ]
  },
  {
   "cell_type": "code",
   "execution_count": 4,
   "metadata": {
    "collapsed": true,
    "deletable": true,
    "editable": true
   },
   "outputs": [],
   "source": [
    "X_train = X_train.reshape(60000, 784)\n",
    "X_test = X_test.reshape(10000, 784)\n",
    "X_train = X_train.astype('float32')\n",
    "X_test = X_test.astype('float32')\n",
    "X_train /= 255\n",
    "X_test /= 255"
   ]
  },
  {
   "cell_type": "markdown",
   "metadata": {
    "deletable": true,
    "editable": true
   },
   "source": [
    "Categories need to be converted to one-hot vectors for training:"
   ]
  },
  {
   "cell_type": "code",
   "execution_count": 5,
   "metadata": {
    "collapsed": false,
    "deletable": true,
    "editable": true
   },
   "outputs": [
    {
     "data": {
      "text/plain": [
       "(array([5, 0, 4, ..., 5, 6, 8], dtype=uint8),\n",
       " array([[ 0.,  0.,  0., ...,  0.,  0.,  0.],\n",
       "        [ 1.,  0.,  0., ...,  0.,  0.,  0.],\n",
       "        [ 0.,  0.,  0., ...,  0.,  0.,  0.],\n",
       "        ..., \n",
       "        [ 0.,  0.,  0., ...,  0.,  0.,  0.],\n",
       "        [ 0.,  0.,  0., ...,  0.,  0.,  0.],\n",
       "        [ 0.,  0.,  0., ...,  0.,  1.,  0.]]))"
      ]
     },
     "execution_count": 5,
     "metadata": {},
     "output_type": "execute_result"
    }
   ],
   "source": [
    "nb_classes = 10\n",
    "Y_train = np_utils.to_categorical(y_train, nb_classes)\n",
    "Y_test = np_utils.to_categorical(y_test, nb_classes)\n",
    "y_train, Y_train"
   ]
  },
  {
   "cell_type": "markdown",
   "metadata": {
    "deletable": true,
    "editable": true
   },
   "source": [
    "Now let's write the model from the previous exercise in Keras:"
   ]
  },
  {
   "cell_type": "code",
   "execution_count": 6,
   "metadata": {
    "collapsed": false,
    "deletable": true,
    "editable": true
   },
   "outputs": [
    {
     "name": "stdout",
     "output_type": "stream",
     "text": [
      "____________________________________________________________________________________________________\n",
      "Layer (type)                     Output Shape          Param #     Connected to                     \n",
      "====================================================================================================\n",
      "dense_1 (Dense)                  (None, 10)            7850        dense_input_1[0][0]              \n",
      "____________________________________________________________________________________________________\n",
      "activation_1 (Activation)        (None, 10)            0           dense_1[0][0]                    \n",
      "====================================================================================================\n",
      "Total params: 7,850\n",
      "Trainable params: 7,850\n",
      "Non-trainable params: 0\n",
      "____________________________________________________________________________________________________\n"
     ]
    }
   ],
   "source": [
    "from keras.models import Sequential\n",
    "from keras.layers import Dense, Activation\n",
    "\n",
    "model = Sequential()\n",
    "# in the first layer we need to specify the input shape\n",
    "model.add(Dense(10, input_shape=(784,)))\n",
    "model.add(Activation('softmax'))\n",
    "\n",
    "model.summary()"
   ]
  },
  {
   "cell_type": "markdown",
   "metadata": {
    "deletable": true,
    "editable": true
   },
   "source": [
    "**Exercise**: ```model.summary()``` gave us the total number of trainable parameters of our model. How is this number obtained? Manually calculate the parameters of this model. "
   ]
  },
  {
   "cell_type": "code",
   "execution_count": 7,
   "metadata": {
    "collapsed": false
   },
   "outputs": [
    {
     "data": {
      "text/plain": [
       "7850"
      ]
     },
     "execution_count": 7,
     "metadata": {},
     "output_type": "execute_result"
    }
   ],
   "source": [
    "784*10+10"
   ]
  },
  {
   "cell_type": "markdown",
   "metadata": {
    "deletable": true,
    "editable": true
   },
   "source": [
    "We are now ready to train. Let's define the optimizer:"
   ]
  },
  {
   "cell_type": "code",
   "execution_count": 8,
   "metadata": {
    "collapsed": true,
    "deletable": true,
    "editable": true
   },
   "outputs": [],
   "source": [
    "from keras.optimizers import SGD\n",
    "lr = 0.01\n",
    "# For now we will not decrease the learning rate\n",
    "decay = 0\n",
    "\n",
    "optim = SGD(lr=lr, decay=decay, momentum=0.9, nesterov=True)"
   ]
  },
  {
   "cell_type": "markdown",
   "metadata": {
    "deletable": true,
    "editable": true
   },
   "source": [
    "In Keras, we need to compile the model to define the loss and the optimizer we want to use. Since we are dealing with a classification problem, we will use the cross entropy loss, which is already defined in keras. Additionally, we will incorporate the accuracy as an additional metric to compute at the end of each epoch:"
   ]
  },
  {
   "cell_type": "code",
   "execution_count": 9,
   "metadata": {
    "collapsed": false,
    "deletable": true,
    "editable": true
   },
   "outputs": [],
   "source": [
    "model.compile(loss='categorical_crossentropy',\n",
    "              optimizer=optim,\n",
    "              metrics=['accuracy'])"
   ]
  },
  {
   "cell_type": "markdown",
   "metadata": {
    "deletable": true,
    "editable": true
   },
   "source": [
    "Now let's train the model. ```model.fit()``` will do the training loop for us. We just need to pass the training data ```X_train``` and labels ```Y_train``` as input, specify the ```batch_size``` and the number of epochs ```nb_epoch``` we want to do. We also pass the test set ```(X_test,Y_Test)``` as validation data, which will allow us to see how the model performs on the test data as training progresses. Let's run it:"
   ]
  },
  {
   "cell_type": "code",
   "execution_count": 10,
   "metadata": {
    "collapsed": false,
    "deletable": true,
    "editable": true
   },
   "outputs": [
    {
     "name": "stdout",
     "output_type": "stream",
     "text": [
      "Train on 60000 samples, validate on 10000 samples\n",
      "Epoch 1/20\n",
      "1s - loss: 0.5890 - acc: 0.8459 - val_loss: 0.3800 - val_acc: 0.8991\n",
      "Epoch 2/20\n",
      "1s - loss: 0.3746 - acc: 0.8966 - val_loss: 0.3359 - val_acc: 0.9095\n",
      "Epoch 3/20\n",
      "1s - loss: 0.3429 - acc: 0.9050 - val_loss: 0.3164 - val_acc: 0.9135\n",
      "Epoch 4/20\n",
      "1s - loss: 0.3264 - acc: 0.9091 - val_loss: 0.3056 - val_acc: 0.9159\n",
      "Epoch 5/20\n",
      "0s - loss: 0.3159 - acc: 0.9118 - val_loss: 0.2992 - val_acc: 0.9168\n",
      "Epoch 6/20\n",
      "0s - loss: 0.3079 - acc: 0.9136 - val_loss: 0.2942 - val_acc: 0.9180\n",
      "Epoch 7/20\n",
      "0s - loss: 0.3024 - acc: 0.9157 - val_loss: 0.2902 - val_acc: 0.9188\n",
      "Epoch 8/20\n",
      "1s - loss: 0.2974 - acc: 0.9170 - val_loss: 0.2881 - val_acc: 0.9194\n",
      "Epoch 9/20\n",
      "0s - loss: 0.2936 - acc: 0.9181 - val_loss: 0.2843 - val_acc: 0.9206\n",
      "Epoch 10/20\n",
      "0s - loss: 0.2905 - acc: 0.9189 - val_loss: 0.2824 - val_acc: 0.9215\n",
      "Epoch 11/20\n",
      "0s - loss: 0.2874 - acc: 0.9201 - val_loss: 0.2811 - val_acc: 0.9222\n",
      "Epoch 12/20\n",
      "0s - loss: 0.2851 - acc: 0.9202 - val_loss: 0.2794 - val_acc: 0.9220\n",
      "Epoch 13/20\n",
      "0s - loss: 0.2831 - acc: 0.9211 - val_loss: 0.2792 - val_acc: 0.9221\n",
      "Epoch 14/20\n",
      "0s - loss: 0.2812 - acc: 0.9216 - val_loss: 0.2772 - val_acc: 0.9239\n",
      "Epoch 15/20\n",
      "0s - loss: 0.2794 - acc: 0.9226 - val_loss: 0.2782 - val_acc: 0.9231\n",
      "Epoch 16/20\n",
      "1s - loss: 0.2777 - acc: 0.9229 - val_loss: 0.2751 - val_acc: 0.9223\n",
      "Epoch 17/20\n",
      "1s - loss: 0.2764 - acc: 0.9232 - val_loss: 0.2749 - val_acc: 0.9217\n",
      "Epoch 18/20\n",
      "1s - loss: 0.2750 - acc: 0.9236 - val_loss: 0.2757 - val_acc: 0.9221\n",
      "Epoch 19/20\n",
      "1s - loss: 0.2740 - acc: 0.9239 - val_loss: 0.2739 - val_acc: 0.9234\n",
      "Epoch 20/20\n",
      "1s - loss: 0.2727 - acc: 0.9251 - val_loss: 0.2713 - val_acc: 0.9231\n",
      "21.227671146392822 seconds.\n"
     ]
    }
   ],
   "source": [
    "batch_size = 128\n",
    "nb_epoch = 20\n",
    "verbose = 2\n",
    "\n",
    "t = time.time()\n",
    "# 30 seconds for 20 epochs on GeForce GTX 980\n",
    "history = model.fit(X_train, Y_train,\n",
    "                batch_size=batch_size, nb_epoch=nb_epoch,\n",
    "                verbose=verbose,validation_data=(X_test, Y_test))\n",
    "\n",
    "print (time.time() - t, \"seconds.\")"
   ]
  },
  {
   "cell_type": "markdown",
   "metadata": {
    "deletable": true,
    "editable": true
   },
   "source": [
    "We can plot the loss and accuracy curves with the ```history``` object returned by ```model.fit()```. The function ````plot_curves```, which is defined in ```utils.py``` will do this for us."
   ]
  },
  {
   "cell_type": "code",
   "execution_count": 11,
   "metadata": {
    "collapsed": false,
    "deletable": true,
    "editable": true
   },
   "outputs": [
    {
     "data": {
      "image/png": "[encoded data removed]",
      "text/plain": [
       "<matplotlib.figure.Figure at 0x12a6da668>"
      ]
     },
     "metadata": {},
     "output_type": "display_data"
    }
   ],
   "source": [
    "plot_curves(history,nb_epoch)"
   ]
  },
  {
   "cell_type": "markdown",
   "metadata": {
    "deletable": true,
    "editable": true
   },
   "source": [
    "The curve trend indicates that the model may be able to improve if we train it for longer, but for now let's leave it here.\n",
    "\n",
    "Let's now evaluate our model. ```model.evaluate()``` will take all the test samples, forward them through the network and return the average loss, and any additional metrics we specified (in our case, the accuracy)."
   ]
  },
  {
   "cell_type": "code",
   "execution_count": 12,
   "metadata": {
    "collapsed": false,
    "deletable": true,
    "editable": true
   },
   "outputs": [
    {
     "name": "stdout",
     "output_type": "stream",
     "text": [
      "Loss: 0.271295\n",
      "Accuracy: 0.923100\n"
     ]
    }
   ],
   "source": [
    "score = model.evaluate(X_test, Y_test, verbose=0)\n",
    "print (\"Loss: %f\"%(score[0]))\n",
    "print (\"Accuracy: %f\"%(score[1]))"
   ]
  },
  {
   "cell_type": "markdown",
   "metadata": {
    "deletable": true,
    "editable": true
   },
   "source": [
    "We reach an accuracy of 92%, which is similar to the one we obtained in the previous exercise."
   ]
  },
  {
   "cell_type": "markdown",
   "metadata": {
    "collapsed": true,
    "deletable": true,
    "editable": true
   },
   "source": [
    "## Single hidden layer"
   ]
  },
  {
   "cell_type": "markdown",
   "metadata": {
    "collapsed": true,
    "deletable": true,
    "editable": true
   },
   "source": [
    "Let's try to train a model with a hidden layer between the input and the classifier. \n",
    "\n",
    "**Exercise**: Modify the previous architecture to include this layer with 128 neurons. Make sure to use a non-linearity between the two layers (e.g. ReLU). Also remember that, in keras, the ```input_shape``` must be passed to the first layer of the network. "
   ]
  },
  {
   "cell_type": "code",
   "execution_count": 13,
   "metadata": {
    "collapsed": false,
    "deletable": true,
    "editable": true
   },
   "outputs": [
    {
     "name": "stdout",
     "output_type": "stream",
     "text": [
      "____________________________________________________________________________________________________\n",
      "Layer (type)                     Output Shape          Param #     Connected to                     \n",
      "====================================================================================================\n",
      "dense_2 (Dense)                  (None, 128)           100480      dense_input_2[0][0]              \n",
      "____________________________________________________________________________________________________\n",
      "activation_2 (Activation)        (None, 128)           0           dense_2[0][0]                    \n",
      "____________________________________________________________________________________________________\n",
      "dense_3 (Dense)                  (None, 10)            1290        activation_2[0][0]               \n",
      "____________________________________________________________________________________________________\n",
      "activation_3 (Activation)        (None, 10)            0           dense_3[0][0]                    \n",
      "====================================================================================================\n",
      "Total params: 101,770\n",
      "Trainable params: 101,770\n",
      "Non-trainable params: 0\n",
      "____________________________________________________________________________________________________\n"
     ]
    }
   ],
   "source": [
    "import numpy as np\n",
    "np.random.seed(SEED)\n",
    "\n",
    "# MODEL DEFINITION\n",
    "model = Sequential()\n",
    "model.add(Dense(128,input_shape=(784,)))\n",
    "model.add(Activation('relu'))\n",
    "model.add(Dense(10))\n",
    "model.add(Activation('softmax'))\n",
    "# TODO: add layers to this network as indicated in the exercise\n",
    "\n",
    "model.summary()"
   ]
  },
  {
   "cell_type": "markdown",
   "metadata": {
    "deletable": true,
    "editable": true
   },
   "source": [
    "**Exercise**: Compute the number of parameters and check if they match the ones given by ```model.summary()```"
   ]
  },
  {
   "cell_type": "code",
   "execution_count": 14,
   "metadata": {
    "collapsed": false
   },
   "outputs": [
    {
     "data": {
      "text/plain": [
       "101770"
      ]
     },
     "execution_count": 14,
     "metadata": {},
     "output_type": "execute_result"
    }
   ],
   "source": [
    "784*128+128+128*10+10"
   ]
  },
  {
   "cell_type": "markdown",
   "metadata": {
    "deletable": true,
    "editable": true
   },
   "source": [
    "Let's train the model you just defined. Notice that the compilation and training code did not change at all:"
   ]
  },
  {
   "cell_type": "code",
   "execution_count": 15,
   "metadata": {
    "collapsed": false,
    "deletable": true,
    "editable": true
   },
   "outputs": [
    {
     "name": "stdout",
     "output_type": "stream",
     "text": [
      "Train on 60000 samples, validate on 10000 samples\n",
      "Epoch 1/20\n",
      "2s - loss: 0.4914 - acc: 0.8648 - val_loss: 0.2769 - val_acc: 0.9224\n",
      "Epoch 2/20\n",
      "2s - loss: 0.2606 - acc: 0.9263 - val_loss: 0.2208 - val_acc: 0.9396\n",
      "Epoch 3/20\n",
      "1s - loss: 0.2096 - acc: 0.9417 - val_loss: 0.1838 - val_acc: 0.9470\n",
      "Epoch 4/20\n",
      "1s - loss: 0.1771 - acc: 0.9501 - val_loss: 0.1626 - val_acc: 0.9550\n",
      "Epoch 5/20\n",
      "2s - loss: 0.1540 - acc: 0.9563 - val_loss: 0.1436 - val_acc: 0.9600\n",
      "Epoch 6/20\n",
      "1s - loss: 0.1362 - acc: 0.9618 - val_loss: 0.1329 - val_acc: 0.9616\n",
      "Epoch 7/20\n",
      "1s - loss: 0.1226 - acc: 0.9659 - val_loss: 0.1245 - val_acc: 0.9641\n",
      "Epoch 8/20\n",
      "1s - loss: 0.1111 - acc: 0.9697 - val_loss: 0.1166 - val_acc: 0.9651\n",
      "Epoch 9/20\n",
      "1s - loss: 0.1020 - acc: 0.9719 - val_loss: 0.1104 - val_acc: 0.9671\n",
      "Epoch 10/20\n",
      "1s - loss: 0.0945 - acc: 0.9739 - val_loss: 0.1043 - val_acc: 0.9699\n",
      "Epoch 11/20\n",
      "1s - loss: 0.0878 - acc: 0.9762 - val_loss: 0.0990 - val_acc: 0.9702\n",
      "Epoch 12/20\n",
      "2s - loss: 0.0819 - acc: 0.9776 - val_loss: 0.0932 - val_acc: 0.9720\n",
      "Epoch 13/20\n",
      "1s - loss: 0.0765 - acc: 0.9794 - val_loss: 0.0929 - val_acc: 0.9721\n",
      "Epoch 14/20\n",
      "1s - loss: 0.0717 - acc: 0.9807 - val_loss: 0.0919 - val_acc: 0.9723\n",
      "Epoch 15/20\n",
      "2s - loss: 0.0678 - acc: 0.9816 - val_loss: 0.0867 - val_acc: 0.9735\n",
      "Epoch 16/20\n",
      "3s - loss: 0.0640 - acc: 0.9825 - val_loss: 0.0857 - val_acc: 0.9740\n",
      "Epoch 17/20\n",
      "2s - loss: 0.0606 - acc: 0.9838 - val_loss: 0.0832 - val_acc: 0.9747\n",
      "Epoch 18/20\n",
      "2s - loss: 0.0571 - acc: 0.9846 - val_loss: 0.0808 - val_acc: 0.9752\n",
      "Epoch 19/20\n",
      "3s - loss: 0.0546 - acc: 0.9854 - val_loss: 0.0815 - val_acc: 0.9738\n",
      "Epoch 20/20\n",
      "2s - loss: 0.0517 - acc: 0.9861 - val_loss: 0.0793 - val_acc: 0.9756\n",
      "44.0666081905365 seconds.\n",
      "----------\n",
      "Loss: 0.079300\n",
      "Accuracy: 0.975600\n"
     ]
    },
    {
     "data": {
      "image/png": "[encoded data removed]",
      "text/plain": [
       "<matplotlib.figure.Figure at 0x11ed6afd0>"
      ]
     },
     "metadata": {},
     "output_type": "display_data"
    }
   ],
   "source": [
    "# COMPILE & TRAIN\n",
    "model.compile(loss='categorical_crossentropy',\n",
    "              optimizer=optim,\n",
    "              metrics=['accuracy'])\n",
    "\n",
    "t = time.time()\n",
    "history = model.fit(X_train, Y_train,\n",
    "                batch_size=batch_size, nb_epoch=nb_epoch,\n",
    "                verbose=2,validation_data=(X_test, Y_test))\n",
    "print (time.time() - t, \"seconds.\")\n",
    "\n",
    "score = model.evaluate(X_test, Y_test, verbose=0)\n",
    "print (\"-\"*10)\n",
    "print (\"Loss: %f\"%(score[0]))\n",
    "print (\"Accuracy: %f\"%(score[1]))\n",
    "plot_curves(history,nb_epoch)"
   ]
  },
  {
   "cell_type": "markdown",
   "metadata": {
    "deletable": true,
    "editable": true
   },
   "source": [
    "So, adding a hidden layer pushed the accuracy from 0.92 to almost 0.98. Of course the number of parameters has increased significantly. "
   ]
  },
  {
   "cell_type": "markdown",
   "metadata": {
    "deletable": true,
    "editable": true
   },
   "source": [
    "## Going deep"
   ]
  },
  {
   "cell_type": "markdown",
   "metadata": {
    "deletable": true,
    "editable": true
   },
   "source": [
    "Can we keep adding layers just like that and get better and better accuracy? \n",
    "\n",
    "**Exercise**: Design and train network with 6 hidden layers with 128 neurons + classifier."
   ]
  },
  {
   "cell_type": "code",
   "execution_count": 16,
   "metadata": {
    "collapsed": false,
    "deletable": true,
    "editable": true
   },
   "outputs": [
    {
     "name": "stdout",
     "output_type": "stream",
     "text": [
      "____________________________________________________________________________________________________\n",
      "Layer (type)                     Output Shape          Param #     Connected to                     \n",
      "====================================================================================================\n",
      "dense_4 (Dense)                  (None, 128)           100480      dense_input_3[0][0]              \n",
      "____________________________________________________________________________________________________\n",
      "activation_4 (Activation)        (None, 128)           0           dense_4[0][0]                    \n",
      "____________________________________________________________________________________________________\n",
      "dense_5 (Dense)                  (None, 128)           16512       activation_4[0][0]               \n",
      "____________________________________________________________________________________________________\n",
      "activation_5 (Activation)        (None, 128)           0           dense_5[0][0]                    \n",
      "____________________________________________________________________________________________________\n",
      "dense_6 (Dense)                  (None, 128)           16512       activation_5[0][0]               \n",
      "____________________________________________________________________________________________________\n",
      "activation_6 (Activation)        (None, 128)           0           dense_6[0][0]                    \n",
      "____________________________________________________________________________________________________\n",
      "dense_7 (Dense)                  (None, 128)           16512       activation_6[0][0]               \n",
      "____________________________________________________________________________________________________\n",
      "activation_7 (Activation)        (None, 128)           0           dense_7[0][0]                    \n",
      "____________________________________________________________________________________________________\n",
      "dense_8 (Dense)                  (None, 128)           16512       activation_7[0][0]               \n",
      "____________________________________________________________________________________________________\n",
      "activation_8 (Activation)        (None, 128)           0           dense_8[0][0]                    \n",
      "____________________________________________________________________________________________________\n",
      "dense_9 (Dense)                  (None, 128)           16512       activation_8[0][0]               \n",
      "____________________________________________________________________________________________________\n",
      "activation_9 (Activation)        (None, 128)           0           dense_9[0][0]                    \n",
      "____________________________________________________________________________________________________\n",
      "dense_10 (Dense)                 (None, 10)            1290        activation_9[0][0]               \n",
      "____________________________________________________________________________________________________\n",
      "activation_10 (Activation)       (None, 10)            0           dense_10[0][0]                   \n",
      "====================================================================================================\n",
      "Total params: 184,330\n",
      "Trainable params: 184,330\n",
      "Non-trainable params: 0\n",
      "____________________________________________________________________________________________________\n"
     ]
    }
   ],
   "source": [
    "import numpy as np\n",
    "np.random.seed(SEED)\n",
    "\n",
    "model = Sequential()\n",
    "model.add(Dense(128,input_shape=(784,)))\n",
    "model.add(Activation('relu'))\n",
    "for i in range(5):\n",
    "    model.add(Dense(128))\n",
    "    model.add(Activation('relu'))\n",
    "    \n",
    "model.add(Dense(10))\n",
    "model.add(Activation('softmax'))\n",
    "# TODO: add layers as indicated\n",
    "\n",
    "model.summary()"
   ]
  },
  {
   "cell_type": "code",
   "execution_count": 17,
   "metadata": {
    "collapsed": false,
    "deletable": true,
    "editable": true
   },
   "outputs": [
    {
     "name": "stdout",
     "output_type": "stream",
     "text": [
      "Train on 60000 samples, validate on 10000 samples\n",
      "Epoch 1/20\n",
      "4s - loss: 0.5978 - acc: 0.8107 - val_loss: 0.2148 - val_acc: 0.9331\n",
      "Epoch 2/20\n",
      "4s - loss: 0.1566 - acc: 0.9537 - val_loss: 0.1422 - val_acc: 0.9566\n",
      "Epoch 3/20\n",
      "3s - loss: 0.1107 - acc: 0.9671 - val_loss: 0.1166 - val_acc: 0.9621\n",
      "Epoch 4/20\n",
      "3s - loss: 0.0853 - acc: 0.9748 - val_loss: 0.0937 - val_acc: 0.9701\n",
      "Epoch 5/20\n",
      "3s - loss: 0.0690 - acc: 0.9794 - val_loss: 0.0928 - val_acc: 0.9705\n",
      "Epoch 6/20\n",
      "3s - loss: 0.0566 - acc: 0.9825 - val_loss: 0.0863 - val_acc: 0.9736\n",
      "Epoch 7/20\n",
      "3s - loss: 0.0482 - acc: 0.9846 - val_loss: 0.0868 - val_acc: 0.9742\n",
      "Epoch 8/20\n",
      "3s - loss: 0.0399 - acc: 0.9874 - val_loss: 0.0880 - val_acc: 0.9739\n",
      "Epoch 9/20\n",
      "4s - loss: 0.0338 - acc: 0.9892 - val_loss: 0.0946 - val_acc: 0.9723\n",
      "Epoch 10/20\n",
      "3s - loss: 0.0278 - acc: 0.9914 - val_loss: 0.0857 - val_acc: 0.9759\n",
      "Epoch 11/20\n",
      "3s - loss: 0.0262 - acc: 0.9911 - val_loss: 0.0945 - val_acc: 0.9756\n",
      "Epoch 12/20\n",
      "4s - loss: 0.0199 - acc: 0.9936 - val_loss: 0.0937 - val_acc: 0.9757\n",
      "Epoch 13/20\n",
      "5s - loss: 0.0182 - acc: 0.9941 - val_loss: 0.0993 - val_acc: 0.9760\n",
      "Epoch 14/20\n",
      "6s - loss: 0.0177 - acc: 0.9943 - val_loss: 0.1047 - val_acc: 0.9740\n",
      "Epoch 15/20\n",
      "4s - loss: 0.0169 - acc: 0.9945 - val_loss: 0.0928 - val_acc: 0.9780\n",
      "Epoch 16/20\n",
      "4s - loss: 0.0127 - acc: 0.9958 - val_loss: 0.1111 - val_acc: 0.9749\n",
      "Epoch 17/20\n",
      "3s - loss: 0.0120 - acc: 0.9961 - val_loss: 0.1261 - val_acc: 0.9710\n",
      "Epoch 18/20\n",
      "3s - loss: 0.0123 - acc: 0.9961 - val_loss: 0.1062 - val_acc: 0.9768\n",
      "Epoch 19/20\n",
      "3s - loss: 0.0098 - acc: 0.9968 - val_loss: 0.0956 - val_acc: 0.9777\n",
      "Epoch 20/20\n",
      "3s - loss: 0.0120 - acc: 0.9960 - val_loss: 0.1098 - val_acc: 0.9770\n",
      "79.810133934021 seconds.\n",
      "----------\n",
      "Loss: 0.109828\n",
      "Accuracy: 0.977000\n"
     ]
    },
    {
     "data": {
      "image/png": "[encoded data removed]",
      "text/plain": [
       "<matplotlib.figure.Figure at 0x11e7f6cf8>"
      ]
     },
     "metadata": {},
     "output_type": "display_data"
    }
   ],
   "source": [
    "model.compile(loss='categorical_crossentropy',\n",
    "              optimizer=optim,\n",
    "              metrics=['accuracy'])\n",
    "t = time.time()\n",
    "history = model.fit(X_train, Y_train,\n",
    "                batch_size=batch_size, nb_epoch=nb_epoch,\n",
    "                verbose=2,validation_data=(X_test, Y_test))\n",
    "print (time.time() - t, \"seconds.\")\n",
    "\n",
    "score = model.evaluate(X_test, Y_test, verbose=0)\n",
    "print (\"-\"*10)\n",
    "print (\"Loss: %f\"%(score[0]))\n",
    "print (\"Accuracy: %f\"%(score[1]))\n",
    "plot_curves(history,nb_epoch)"
   ]
  },
  {
   "cell_type": "markdown",
   "metadata": {
    "deletable": true,
    "editable": true
   },
   "source": [
    "Turns out that adding more layers did not do much for us. Accuracy is pretty much the same as the one we obtained with a single hidden layer, and now our model is overfitting to training data. How can we fix this?"
   ]
  },
  {
   "cell_type": "markdown",
   "metadata": {
    "deletable": true,
    "editable": true
   },
   "source": [
    "## Dropout"
   ]
  },
  {
   "cell_type": "markdown",
   "metadata": {
    "deletable": true,
    "editable": true
   },
   "source": [
    "**Exercise**: Add dropout layer(s) to the model and see how their effect in the training curves & accuracy."
   ]
  },
  {
   "cell_type": "code",
   "execution_count": 18,
   "metadata": {
    "collapsed": false,
    "deletable": true,
    "editable": true
   },
   "outputs": [
    {
     "name": "stdout",
     "output_type": "stream",
     "text": [
      "____________________________________________________________________________________________________\n",
      "Layer (type)                     Output Shape          Param #     Connected to                     \n",
      "====================================================================================================\n",
      "dense_11 (Dense)                 (None, 128)           100480      dense_input_4[0][0]              \n",
      "____________________________________________________________________________________________________\n",
      "activation_11 (Activation)       (None, 128)           0           dense_11[0][0]                   \n",
      "____________________________________________________________________________________________________\n",
      "dense_12 (Dense)                 (None, 128)           16512       activation_11[0][0]              \n",
      "____________________________________________________________________________________________________\n",
      "activation_12 (Activation)       (None, 128)           0           dense_12[0][0]                   \n",
      "____________________________________________________________________________________________________\n",
      "dropout_1 (Dropout)              (None, 128)           0           activation_12[0][0]              \n",
      "____________________________________________________________________________________________________\n",
      "dense_13 (Dense)                 (None, 128)           16512       dropout_1[0][0]                  \n",
      "____________________________________________________________________________________________________\n",
      "activation_13 (Activation)       (None, 128)           0           dense_13[0][0]                   \n",
      "____________________________________________________________________________________________________\n",
      "dense_14 (Dense)                 (None, 128)           16512       activation_13[0][0]              \n",
      "____________________________________________________________________________________________________\n",
      "activation_14 (Activation)       (None, 128)           0           dense_14[0][0]                   \n",
      "____________________________________________________________________________________________________\n",
      "dropout_2 (Dropout)              (None, 128)           0           activation_14[0][0]              \n",
      "____________________________________________________________________________________________________\n",
      "dense_15 (Dense)                 (None, 128)           16512       dropout_2[0][0]                  \n",
      "____________________________________________________________________________________________________\n",
      "activation_15 (Activation)       (None, 128)           0           dense_15[0][0]                   \n",
      "____________________________________________________________________________________________________\n",
      "dense_16 (Dense)                 (None, 128)           16512       activation_15[0][0]              \n",
      "____________________________________________________________________________________________________\n",
      "activation_16 (Activation)       (None, 128)           0           dense_16[0][0]                   \n",
      "____________________________________________________________________________________________________\n",
      "dropout_3 (Dropout)              (None, 128)           0           activation_16[0][0]              \n",
      "____________________________________________________________________________________________________\n",
      "dense_17 (Dense)                 (None, 10)            1290        dropout_3[0][0]                  \n",
      "____________________________________________________________________________________________________\n",
      "activation_17 (Activation)       (None, 10)            0           dense_17[0][0]                   \n",
      "====================================================================================================\n",
      "Total params: 184,330\n",
      "Trainable params: 184,330\n",
      "Non-trainable params: 0\n",
      "____________________________________________________________________________________________________\n"
     ]
    }
   ],
   "source": [
    "import numpy as np\n",
    "np.random.seed(SEED)\n",
    "\n",
    "from keras.layers import Dropout\n",
    "\n",
    "dratio = 0.2\n",
    "H_DIM = 128\n",
    "\n",
    "model = Sequential()\n",
    "model.add(Dense(128,input_shape=(784,)))\n",
    "model.add(Activation('relu'))\n",
    "for i in range(5):\n",
    "    model.add(Dense(128))\n",
    "    model.add(Activation('relu'))\n",
    "    if i%2==0:\n",
    "        model.add(Dropout(dratio))\n",
    "    \n",
    "model.add(Dense(10))\n",
    "model.add(Activation('softmax'))\n",
    "# TODO: add layers as indicated\n",
    "\n",
    "model.summary()\n",
    "# TODO: add layers to the network"
   ]
  },
  {
   "cell_type": "code",
   "execution_count": 19,
   "metadata": {
    "collapsed": false,
    "deletable": true,
    "editable": true
   },
   "outputs": [
    {
     "name": "stdout",
     "output_type": "stream",
     "text": [
      "Train on 60000 samples, validate on 10000 samples\n",
      "Epoch 1/20\n",
      "5s - loss: 0.8321 - acc: 0.7210 - val_loss: 0.2164 - val_acc: 0.9322\n",
      "Epoch 2/20\n",
      "5s - loss: 0.2306 - acc: 0.9335 - val_loss: 0.1384 - val_acc: 0.9581\n",
      "Epoch 3/20\n",
      "5s - loss: 0.1613 - acc: 0.9530 - val_loss: 0.1233 - val_acc: 0.9623\n",
      "Epoch 4/20\n",
      "5s - loss: 0.1304 - acc: 0.9629 - val_loss: 0.1079 - val_acc: 0.9677\n",
      "Epoch 5/20\n",
      "5s - loss: 0.1076 - acc: 0.9689 - val_loss: 0.1062 - val_acc: 0.9683\n",
      "Epoch 6/20\n",
      "3s - loss: 0.0913 - acc: 0.9730 - val_loss: 0.0884 - val_acc: 0.9744\n",
      "Epoch 7/20\n",
      "3s - loss: 0.0826 - acc: 0.9760 - val_loss: 0.0954 - val_acc: 0.9740\n",
      "Epoch 8/20\n",
      "3s - loss: 0.0712 - acc: 0.9785 - val_loss: 0.0872 - val_acc: 0.9750\n",
      "Epoch 9/20\n",
      "3s - loss: 0.0651 - acc: 0.9816 - val_loss: 0.0887 - val_acc: 0.9769\n",
      "Epoch 10/20\n",
      "3s - loss: 0.0577 - acc: 0.9836 - val_loss: 0.0917 - val_acc: 0.9754\n",
      "Epoch 11/20\n",
      "3s - loss: 0.0520 - acc: 0.9846 - val_loss: 0.0893 - val_acc: 0.9759\n",
      "Epoch 12/20\n",
      "3s - loss: 0.0490 - acc: 0.9849 - val_loss: 0.0930 - val_acc: 0.9764\n",
      "Epoch 13/20\n",
      "3s - loss: 0.0442 - acc: 0.9867 - val_loss: 0.0903 - val_acc: 0.9766\n",
      "Epoch 14/20\n",
      "3s - loss: 0.0412 - acc: 0.9876 - val_loss: 0.0794 - val_acc: 0.9792\n",
      "Epoch 15/20\n",
      "3s - loss: 0.0353 - acc: 0.9893 - val_loss: 0.0941 - val_acc: 0.9765\n",
      "Epoch 16/20\n",
      "3s - loss: 0.0334 - acc: 0.9901 - val_loss: 0.0913 - val_acc: 0.9774\n",
      "Epoch 17/20\n",
      "3s - loss: 0.0311 - acc: 0.9903 - val_loss: 0.1040 - val_acc: 0.9758\n",
      "Epoch 18/20\n",
      "3s - loss: 0.0309 - acc: 0.9908 - val_loss: 0.0893 - val_acc: 0.9768\n",
      "Epoch 19/20\n",
      "3s - loss: 0.0258 - acc: 0.9924 - val_loss: 0.0915 - val_acc: 0.9780\n",
      "Epoch 20/20\n",
      "3s - loss: 0.0256 - acc: 0.9919 - val_loss: 0.0933 - val_acc: 0.9787\n",
      "85.66695880889893 seconds.\n",
      "----------\n",
      "Loss: 0.093311\n",
      "Accuracy: 0.978700\n"
     ]
    },
    {
     "data": {
      "image/png": "[encoded data removed]",
      "text/plain": [
       "<matplotlib.figure.Figure at 0x117a271d0>"
      ]
     },
     "metadata": {},
     "output_type": "display_data"
    }
   ],
   "source": [
    "model.compile(loss='categorical_crossentropy',\n",
    "              optimizer=optim,\n",
    "              metrics=['accuracy'])\n",
    "t = time.time()\n",
    "history = model.fit(X_train, Y_train,\n",
    "                batch_size=batch_size, nb_epoch=nb_epoch,\n",
    "                verbose=verbose,validation_data=(X_test, Y_test))\n",
    "print (time.time() - t, \"seconds.\")\n",
    "\n",
    "score = model.evaluate(X_test, Y_test, verbose=0)\n",
    "print (\"-\"*10)\n",
    "print (\"Loss: %f\"%(score[0]))\n",
    "print (\"Accuracy: %f\"%(score[1]))\n",
    "plot_curves(history,nb_epoch)"
   ]
  },
  {
   "cell_type": "markdown",
   "metadata": {
    "deletable": true,
    "editable": true
   },
   "source": [
    "### Additional exercises:\n",
    "\n",
    "- Use one of the networks to study the effect of the following components:\n",
    "    - learning rate\n",
    "    - optimizer (you can find a list of the different optimizers available in keras [here](https://keras.io/optimizers/))\n",
    "    - learning rate decay\n",
    "- Try adding weight regularization in the hidden layers of the network. You can check how to do this in the documentation for [Dense layers](https://keras.io/layers/core/) and [Regularizers](https://keras.io/regularizers/) in keras."
   ]
  }
 ],
 "metadata": {
  "kernelspec": {
   "display_name": "Python 3",
   "language": "python",
   "name": "python3"
  },
  "language_info": {
   "codemirror_mode": {
    "name": "ipython",
    "version": 3
   },
   "file_extension": ".py",
   "mimetype": "text/x-python",
   "name": "python",
   "nbconvert_exporter": "python",
   "pygments_lexer": "ipython3",
   "version": "3.6.0"
  }
 },
 "nbformat": 4,
 "nbformat_minor": 2
}
